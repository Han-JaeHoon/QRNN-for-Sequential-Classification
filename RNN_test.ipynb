{
 "cells": [
  {
   "cell_type": "code",
   "execution_count": 41,
   "metadata": {},
   "outputs": [],
   "source": [
    "# Quantum\n",
    "import pennylane as qml\n",
    "# PyTorch\n",
    "import torch\n",
    "import torch.nn as nn\n",
    "import torch.nn.functional as F\n",
    "import torch.optim as optim\n",
    "from torch.utils.data import DataLoader, TensorDataset, random_split\n",
    "\n",
    "# Numpy, Pandas\n",
    "import numpy as np\n",
    "import pandas as pd\n",
    "# Layer\n",
    "from kan import KAN\n",
    "from RNN_block import RNN_block\n",
    "# Data processing\n",
    "from fucntions_1029 import data_seq, train_seq\n",
    "from sklearn.preprocessing import MinMaxScaler\n",
    "# Quantum User-Def Classes\n",
    "from utils import my_utils\n",
    "from NQE_class import NQE\n",
    "from NQE_train_class import NQE_Train"
   ]
  },
  {
   "cell_type": "code",
   "execution_count": 14,
   "metadata": {},
   "outputs": [
    {
     "name": "stdout",
     "output_type": "stream",
     "text": [
      "torch.Size([32, 5, 4])\n",
      "RNN(4, 7, num_layers=5, batch_first=True)\n"
     ]
    }
   ],
   "source": [
    "import torch\n",
    "import torch.nn as nn\n",
    "\n",
    "n_feature = 4\n",
    "n_sequence = 5\n",
    "\n",
    "input = torch.randn(32, n_sequence, n_feature)\n",
    "print(input.size())\n",
    "# input : [batch_size, sequence, input_size]\n",
    "\n",
    "rnn_layer = nn.RNN(input_size=n_feature, hidden_size=(2 * n_feature - 1), num_layers=n_sequence, batch_first=True)\n",
    "print(rnn_layer)\n",
    "\n",
    "# 결과 \n",
    "# RNN(5, 4, num_layers=3, batch_first=True)"
   ]
  },
  {
   "cell_type": "code",
   "execution_count": null,
   "metadata": {},
   "outputs": [],
   "source": [
    "# input_size는 Input의 input_size의 값을 받으므로, 5로 적어주시면 됩니다.\n",
    "#  \n",
    "# hidden_size는 nn.RNN을 걸치면 나오는 Output으로 볼 수 있으며, 위 그림의 주황색 박스입니다. \n",
    "#  \n",
    "# hidden_size = 4 이므로 output 또한 4차원으로 만들어집니다. \n",
    "#  \n",
    "# num_layer는 층으로 보시면 편할 것 같습니다. num_layer = 3 이므로 3개의 층이 생성됩니다. "
   ]
  },
  {
   "cell_type": "code",
   "execution_count": 42,
   "metadata": {},
   "outputs": [],
   "source": [
    "# CSV 파일 경로\n",
    "feature_path = './data/pca/pca_train_data_Perth.csv'\n",
    "label_path = './data/pca/pca_label_data_Perth.csv'\n",
    "\n",
    "# CSV 파일을 읽어 Tensor로 변환\n",
    "feature_data = torch.tensor(pd.read_csv(feature_path).values, dtype=torch.float32)\n",
    "label_data = torch.tensor(pd.read_csv(label_path).values, dtype=torch.float32)\n",
    "\n",
    "# data_seq 객체 생성\n",
    "data = data_seq(feature_data, label_data)\n",
    "train_loader, test_loader = data.split_data(test_ratio = 0.2, batch_size = 32, seq_first = False, for_nqe = False, n_sequence = 5, seed = 40)\n"
   ]
  },
  {
   "cell_type": "code",
   "execution_count": 51,
   "metadata": {},
   "outputs": [
    {
     "name": "stdout",
     "output_type": "stream",
     "text": [
      "torch.Size([32, 5, 4])\n"
     ]
    }
   ],
   "source": [
    "for e in train_loader:\n",
    "    input_data = e[0]\n",
    "    print(e[0].shape)\n",
    "    \n",
    "    break"
   ]
  },
  {
   "cell_type": "code",
   "execution_count": 50,
   "metadata": {},
   "outputs": [
    {
     "data": {
      "text/plain": [
       "torch.Size([32, 5, 4])"
      ]
     },
     "execution_count": 50,
     "metadata": {},
     "output_type": "execute_result"
    }
   ],
   "source": [
    "input.shape"
   ]
  },
  {
   "cell_type": "code",
   "execution_count": 55,
   "metadata": {},
   "outputs": [
    {
     "data": {
      "text/plain": [
       "torch.Size([32, 5, 7])"
      ]
     },
     "execution_count": 55,
     "metadata": {},
     "output_type": "execute_result"
    }
   ],
   "source": [
    "output, hidden = rnn_layer(input_data)\n",
    "output.shape"
   ]
  },
  {
   "cell_type": "code",
   "execution_count": 58,
   "metadata": {},
   "outputs": [
    {
     "data": {
      "text/plain": [
       "tensor([[[-0.1611,  0.0302, -0.0679,  ..., -0.3367,  0.3352, -0.5148],\n",
       "         [-0.1386, -0.0272, -0.0874,  ..., -0.2962,  0.3397, -0.5248],\n",
       "         [-0.1943, -0.1055, -0.0951,  ..., -0.2636,  0.2909, -0.4626],\n",
       "         ...,\n",
       "         [-0.0470,  0.1076, -0.0775,  ..., -0.3407,  0.4264, -0.6295],\n",
       "         [-0.0782,  0.0585, -0.0816,  ..., -0.3274,  0.3908, -0.5929],\n",
       "         [-0.0422,  0.1429, -0.0706,  ..., -0.3534,  0.4414, -0.6391]],\n",
       "\n",
       "        [[-0.0747,  0.1900,  0.0898,  ..., -0.5200,  0.2129, -0.6263],\n",
       "         [-0.1308,  0.0841,  0.0944,  ..., -0.4380,  0.1592, -0.6008],\n",
       "         [-0.2319,  0.1203,  0.0645,  ..., -0.4293,  0.1586, -0.5493],\n",
       "         ...,\n",
       "         [ 0.0975,  0.1689,  0.1503,  ..., -0.5074,  0.2475, -0.7415],\n",
       "         [ 0.0312,  0.1004,  0.1298,  ..., -0.4640,  0.2035, -0.6975],\n",
       "         [ 0.1496,  0.2426,  0.1621,  ..., -0.5575,  0.2708, -0.7653]],\n",
       "\n",
       "        [[-0.0254,  0.1853,  0.1487,  ..., -0.4133,  0.2790, -0.6667],\n",
       "         [-0.1655,  0.1101,  0.1122,  ..., -0.3158,  0.2516, -0.5956],\n",
       "         [-0.0410,  0.2825,  0.0919,  ..., -0.4201,  0.3708, -0.6571],\n",
       "         ...,\n",
       "         [-0.0523, -0.0039,  0.1790,  ..., -0.2609,  0.2276, -0.6962],\n",
       "         [-0.0797,  0.0495,  0.1896,  ..., -0.2565,  0.2351, -0.6770],\n",
       "         [ 0.0539,  0.1287,  0.2213,  ..., -0.3392,  0.2935, -0.7637]],\n",
       "\n",
       "        [[-0.0168,  0.0976,  0.1438,  ..., -0.3574,  0.2701, -0.6736],\n",
       "         [-0.1095,  0.1558,  0.0576,  ..., -0.3629,  0.3144, -0.6385],\n",
       "         [ 0.1307,  0.1616,  0.0907,  ..., -0.3956,  0.3732, -0.7505],\n",
       "         ...,\n",
       "         [-0.0367,  0.2385,  0.1815,  ..., -0.3464,  0.3629, -0.7556],\n",
       "         [-0.0613,  0.0786,  0.1445,  ..., -0.2841,  0.3059, -0.6896],\n",
       "         [ 0.0568,  0.1614,  0.2325,  ..., -0.3543,  0.3300, -0.7711]],\n",
       "\n",
       "        [[-0.1454,  0.0191,  0.1625,  ..., -0.2821,  0.2128, -0.6178],\n",
       "         [-0.0807,  0.1673,  0.0659,  ..., -0.3657,  0.3400, -0.6783],\n",
       "         [-0.0430,  0.1352,  0.1263,  ..., -0.3075,  0.3233, -0.7612],\n",
       "         ...,\n",
       "         [ 0.1593,  0.0755,  0.1822,  ..., -0.3763,  0.3294, -0.7665],\n",
       "         [ 0.0176,  0.1665,  0.1265,  ..., -0.3383,  0.3637, -0.7645],\n",
       "         [ 0.0783,  0.1128,  0.2360,  ..., -0.3417,  0.3237, -0.7688]]],\n",
       "       grad_fn=<PermuteBackward0>)"
      ]
     },
     "execution_count": 58,
     "metadata": {},
     "output_type": "execute_result"
    }
   ],
   "source": [
    "output = output.permute(1, 0, 2)\n",
    "output"
   ]
  },
  {
   "cell_type": "code",
   "execution_count": 59,
   "metadata": {},
   "outputs": [
    {
     "data": {
      "text/plain": [
       "torch.Size([5, 32, 7])"
      ]
     },
     "execution_count": 59,
     "metadata": {},
     "output_type": "execute_result"
    }
   ],
   "source": [
    "output.shape"
   ]
  },
  {
   "cell_type": "code",
   "execution_count": 60,
   "metadata": {},
   "outputs": [
    {
     "data": {
      "text/plain": [
       "torch.Size([32, 7])"
      ]
     },
     "execution_count": 60,
     "metadata": {},
     "output_type": "execute_result"
    }
   ],
   "source": [
    "output[-1].shape"
   ]
  },
  {
   "cell_type": "code",
   "execution_count": null,
   "metadata": {},
   "outputs": [],
   "source": [
    "# output : [sequence, batch_size, hidden_size] \n",
    "# hidden : [num_layer, batch_size, hidden_size] "
   ]
  },
  {
   "cell_type": "code",
   "execution_count": 7,
   "metadata": {},
   "outputs": [
    {
     "name": "stdout",
     "output_type": "stream",
     "text": [
      "torch.Size([4, 7, 4])\n",
      "torch.Size([3, 4, 4])\n"
     ]
    }
   ],
   "source": [
    "for e in output:\n",
    "    print(e.shape)"
   ]
  },
  {
   "cell_type": "code",
   "execution_count": 4,
   "metadata": {},
   "outputs": [
    {
     "ename": "AttributeError",
     "evalue": "'tuple' object has no attribute 'size'",
     "output_type": "error",
     "traceback": [
      "\u001b[0;31m---------------------------------------------------------------------------\u001b[0m",
      "\u001b[0;31mAttributeError\u001b[0m                            Traceback (most recent call last)",
      "Cell \u001b[0;32mIn[4], line 1\u001b[0m\n\u001b[0;32m----> 1\u001b[0m \u001b[38;5;28mprint\u001b[39m(\u001b[38;5;124m\"\u001b[39m\u001b[38;5;124mOutput size : \u001b[39m\u001b[38;5;132;01m{}\u001b[39;00m\u001b[38;5;124m\"\u001b[39m\u001b[38;5;241m.\u001b[39mformat(\u001b[43moutput\u001b[49m\u001b[38;5;241;43m.\u001b[39;49m\u001b[43msize\u001b[49m()))\n",
      "\u001b[0;31mAttributeError\u001b[0m: 'tuple' object has no attribute 'size'"
     ]
    }
   ],
   "source": [
    "print(\"Output size : {}\".format(output.size()))"
   ]
  },
  {
   "cell_type": "code",
   "execution_count": null,
   "metadata": {},
   "outputs": [],
   "source": []
  }
 ],
 "metadata": {
  "kernelspec": {
   "display_name": "Python 3",
   "language": "python",
   "name": "python3"
  },
  "language_info": {
   "codemirror_mode": {
    "name": "ipython",
    "version": 3
   },
   "file_extension": ".py",
   "mimetype": "text/x-python",
   "name": "python",
   "nbconvert_exporter": "python",
   "pygments_lexer": "ipython3",
   "version": "3.12.6"
  }
 },
 "nbformat": 4,
 "nbformat_minor": 2
}
